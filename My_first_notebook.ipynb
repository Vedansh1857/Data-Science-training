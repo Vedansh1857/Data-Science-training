{
 "cells": [
  {
   "cell_type": "code",
   "execution_count": 1,
   "id": "937051f5",
   "metadata": {},
   "outputs": [
    {
     "name": "stdout",
     "output_type": "stream",
     "text": [
      "Let's start our internship journey\n"
     ]
    }
   ],
   "source": [
    "print(\"Let's start our internship journey\")"
   ]
  },
  {
   "cell_type": "markdown",
   "id": "c7fa45da",
   "metadata": {},
   "source": [
    "# it is a single hash"
   ]
  },
  {
   "cell_type": "markdown",
   "id": "d2ca8482",
   "metadata": {},
   "source": [
    "## it is a double hash."
   ]
  },
  {
   "cell_type": "markdown",
   "id": "cd4a1c86",
   "metadata": {},
   "source": [
    "### it is a triple hash."
   ]
  },
  {
   "cell_type": "markdown",
   "id": "2595ab78",
   "metadata": {},
   "source": [
    "#### it is a quad hash."
   ]
  },
  {
   "cell_type": "markdown",
   "id": "7e64a911",
   "metadata": {},
   "source": [
    "##### It is a five hash."
   ]
  },
  {
   "cell_type": "markdown",
   "id": "baab0b92",
   "metadata": {},
   "source": [
    "###### It is a six hash."
   ]
  },
  {
   "cell_type": "markdown",
   "id": "1c7679d0",
   "metadata": {},
   "source": [
    "It is just a markdown"
   ]
  },
  {
   "cell_type": "raw",
   "id": "f2b58b80",
   "metadata": {},
   "source": [
    "hello... it is a Raw NBConvert"
   ]
  },
  {
   "cell_type": "markdown",
   "id": "b7bf1710",
   "metadata": {},
   "source": [
    "**This is bold**"
   ]
  },
  {
   "cell_type": "markdown",
   "id": "169f5af8",
   "metadata": {},
   "source": [
    "*Italic*"
   ]
  },
  {
   "cell_type": "code",
   "execution_count": 2,
   "id": "735469be",
   "metadata": {},
   "outputs": [],
   "source": [
    "stock_market = [('APPL', 200) , ('GOOG', 300) , ('MCRSFT', 400) , ('Vedansh Enterprises', 500)]"
   ]
  },
  {
   "cell_type": "code",
   "execution_count": 3,
   "id": "763525aa",
   "metadata": {},
   "outputs": [],
   "source": [
    "def find_company(stock_market):\n",
    "    comp = stock_market[0][0]\n",
    "    mp = stock_market[0][1]\n",
    "    for c,sp in stock_market:\n",
    "        if(sp>mp):\n",
    "            mp = sp\n",
    "            comp = c\n",
    "    return comp"
   ]
  },
  {
   "cell_type": "code",
   "execution_count": 4,
   "id": "e564cb89",
   "metadata": {},
   "outputs": [
    {
     "data": {
      "text/plain": [
       "'Vedansh Enterprises'"
      ]
     },
     "execution_count": 4,
     "metadata": {},
     "output_type": "execute_result"
    }
   ],
   "source": [
    "find_company(stock_market)"
   ]
  },
  {
   "cell_type": "markdown",
   "id": "8a9e1139",
   "metadata": {},
   "source": [
    "# Lambda function , map function , filter function"
   ]
  },
  {
   "cell_type": "code",
   "execution_count": 5,
   "id": "d658f0e3",
   "metadata": {},
   "outputs": [],
   "source": [
    "def square(n):\n",
    "    return (n**2)"
   ]
  },
  {
   "cell_type": "code",
   "execution_count": 6,
   "id": "e1b3d475",
   "metadata": {},
   "outputs": [
    {
     "data": {
      "text/plain": [
       "25"
      ]
     },
     "execution_count": 6,
     "metadata": {},
     "output_type": "execute_result"
    }
   ],
   "source": [
    "square(5)"
   ]
  },
  {
   "cell_type": "code",
   "execution_count": 7,
   "id": "c903168c",
   "metadata": {},
   "outputs": [
    {
     "data": {
      "text/plain": [
       "<function __main__.<lambda>(n)>"
      ]
     },
     "execution_count": 7,
     "metadata": {},
     "output_type": "execute_result"
    }
   ],
   "source": [
    "lambda n : n**2"
   ]
  },
  {
   "cell_type": "code",
   "execution_count": 8,
   "id": "b0ee0fbc",
   "metadata": {},
   "outputs": [],
   "source": [
    "l = [1,2,3,4,5]"
   ]
  },
  {
   "cell_type": "code",
   "execution_count": 9,
   "id": "025b94b6",
   "metadata": {},
   "outputs": [
    {
     "data": {
      "text/plain": [
       "[1, 4, 9, 16, 25]"
      ]
     },
     "execution_count": 9,
     "metadata": {},
     "output_type": "execute_result"
    }
   ],
   "source": [
    "list(map(square,l))"
   ]
  },
  {
   "cell_type": "code",
   "execution_count": 10,
   "id": "a2bd3942",
   "metadata": {},
   "outputs": [
    {
     "data": {
      "text/plain": [
       "[1, 4, 9, 16, 25]"
      ]
     },
     "execution_count": 10,
     "metadata": {},
     "output_type": "execute_result"
    }
   ],
   "source": [
    "list(map(lambda n : n**2,l))"
   ]
  },
  {
   "cell_type": "code",
   "execution_count": 11,
   "id": "3aeaf695",
   "metadata": {},
   "outputs": [],
   "source": [
    "sq = lambda n : n**2"
   ]
  },
  {
   "cell_type": "code",
   "execution_count": 12,
   "id": "760dac52",
   "metadata": {},
   "outputs": [
    {
     "data": {
      "text/plain": [
       "16"
      ]
     },
     "execution_count": 12,
     "metadata": {},
     "output_type": "execute_result"
    }
   ],
   "source": [
    "sq(4)"
   ]
  },
  {
   "cell_type": "code",
   "execution_count": 13,
   "id": "4cb4cfd5",
   "metadata": {},
   "outputs": [
    {
     "data": {
      "text/plain": [
       "(1, 4, 9, 16, 25)"
      ]
     },
     "execution_count": 13,
     "metadata": {},
     "output_type": "execute_result"
    }
   ],
   "source": [
    "tuple(map(sq , l))"
   ]
  },
  {
   "cell_type": "code",
   "execution_count": 14,
   "id": "070a63da",
   "metadata": {},
   "outputs": [
    {
     "data": {
      "text/plain": [
       "[1, 2, 3, 4, 5]"
      ]
     },
     "execution_count": 14,
     "metadata": {},
     "output_type": "execute_result"
    }
   ],
   "source": [
    "list(filter(sq,l))"
   ]
  },
  {
   "cell_type": "code",
   "execution_count": 15,
   "id": "a15d5e1d",
   "metadata": {},
   "outputs": [
    {
     "data": {
      "text/plain": [
       "[1, 2, 3, 4, 5]"
      ]
     },
     "execution_count": 15,
     "metadata": {},
     "output_type": "execute_result"
    }
   ],
   "source": [
    "list(filter(lambda n : n**2 , l))"
   ]
  },
  {
   "cell_type": "code",
   "execution_count": 16,
   "id": "3e6bcb4f",
   "metadata": {},
   "outputs": [
    {
     "data": {
      "text/plain": [
       "[2, 4]"
      ]
     },
     "execution_count": 16,
     "metadata": {},
     "output_type": "execute_result"
    }
   ],
   "source": [
    "list(filter(lambda n:n%2==0 , l))"
   ]
  },
  {
   "cell_type": "markdown",
   "id": "e18e9c24",
   "metadata": {},
   "source": [
    "##### While using the filter function the lmabda function should return either true or false... the filter function will work in that case only"
   ]
  },
  {
   "cell_type": "code",
   "execution_count": 29,
   "id": "ecdb8aa3",
   "metadata": {},
   "outputs": [],
   "source": [
    "names = [\"Vedansh\" , \"Krishna\" , \"Kartikey\" , \"Kaushki\" , \"Deval\" , \"Aditi\"]"
   ]
  },
  {
   "cell_type": "code",
   "execution_count": 30,
   "id": "7826b07b",
   "metadata": {},
   "outputs": [],
   "source": [
    "roll = [101,102,103,104,105,106]"
   ]
  },
  {
   "cell_type": "code",
   "execution_count": 35,
   "id": "3b938a0d",
   "metadata": {},
   "outputs": [
    {
     "data": {
      "text/plain": [
       "{0: 'Vedansh',\n",
       " 1: 'Krishna',\n",
       " 2: 'Kartikey',\n",
       " 3: 'Kaushki',\n",
       " 4: 'Deval',\n",
       " 5: 'Aditi'}"
      ]
     },
     "execution_count": 35,
     "metadata": {},
     "output_type": "execute_result"
    }
   ],
   "source": [
    "dict(enumerate(names))"
   ]
  },
  {
   "cell_type": "code",
   "execution_count": 36,
   "id": "d2f50876",
   "metadata": {},
   "outputs": [
    {
     "data": {
      "text/plain": [
       "{10: 'Vedansh',\n",
       " 11: 'Krishna',\n",
       " 12: 'Kartikey',\n",
       " 13: 'Kaushki',\n",
       " 14: 'Deval',\n",
       " 15: 'Aditi'}"
      ]
     },
     "execution_count": 36,
     "metadata": {},
     "output_type": "execute_result"
    }
   ],
   "source": [
    "dict(enumerate(names,10))"
   ]
  },
  {
   "cell_type": "code",
   "execution_count": 40,
   "id": "7fa92aa1",
   "metadata": {},
   "outputs": [
    {
     "data": {
      "text/plain": [
       "{101: 'Vedansh',\n",
       " 102: 'Krishna',\n",
       " 103: 'Kartikey',\n",
       " 104: 'Kaushki',\n",
       " 105: 'Deval',\n",
       " 106: 'Aditi'}"
      ]
     },
     "execution_count": 40,
     "metadata": {},
     "output_type": "execute_result"
    }
   ],
   "source": [
    "dict(enumerate(names,101))"
   ]
  },
  {
   "cell_type": "code",
   "execution_count": 39,
   "id": "96ebe055",
   "metadata": {},
   "outputs": [
    {
     "data": {
      "text/plain": [
       "{'Vedansh': 101,\n",
       " 'Krishna': 102,\n",
       " 'Kartikey': 103,\n",
       " 'Kaushki': 104,\n",
       " 'Deval': 105,\n",
       " 'Aditi': 106}"
      ]
     },
     "execution_count": 39,
     "metadata": {},
     "output_type": "execute_result"
    }
   ],
   "source": [
    "dict(zip(names,roll))"
   ]
  },
  {
   "cell_type": "code",
   "execution_count": 41,
   "id": "ff49d594",
   "metadata": {},
   "outputs": [
    {
     "data": {
      "text/plain": [
       "{101: 'Vedansh',\n",
       " 102: 'Krishna',\n",
       " 103: 'Kartikey',\n",
       " 104: 'Kaushki',\n",
       " 105: 'Deval',\n",
       " 106: 'Aditi'}"
      ]
     },
     "execution_count": 41,
     "metadata": {},
     "output_type": "execute_result"
    }
   ],
   "source": [
    "dict(zip(roll,names))"
   ]
  },
  {
   "cell_type": "markdown",
   "id": "5b165104",
   "metadata": {},
   "source": [
    "# List comprehension"
   ]
  },
  {
   "cell_type": "code",
   "execution_count": 50,
   "id": "f205e2bf",
   "metadata": {},
   "outputs": [
    {
     "data": {
      "text/plain": [
       "[0, 1, 2, 3, 4, 5, 6, 7, 8, 9]"
      ]
     },
     "execution_count": 50,
     "metadata": {},
     "output_type": "execute_result"
    }
   ],
   "source": [
    "[num for num in range(10)]"
   ]
  },
  {
   "cell_type": "code",
   "execution_count": 51,
   "id": "76e0d6a2",
   "metadata": {},
   "outputs": [
    {
     "data": {
      "text/plain": [
       "[0, 1, 4, 9, 16, 25, 36, 49, 64, 81]"
      ]
     },
     "execution_count": 51,
     "metadata": {},
     "output_type": "execute_result"
    }
   ],
   "source": [
    "[num**2 for num in range(10)]"
   ]
  },
  {
   "cell_type": "code",
   "execution_count": 52,
   "id": "e28c718a",
   "metadata": {},
   "outputs": [
    {
     "data": {
      "text/plain": [
       "[0, 3, 6, 9, 12, 15, 18, 21, 24, 27, 30, 33, 36, 39, 42, 45, 48]"
      ]
     },
     "execution_count": 52,
     "metadata": {},
     "output_type": "execute_result"
    }
   ],
   "source": [
    "[num for num in range(0,51) if num%3 == 0]"
   ]
  },
  {
   "cell_type": "code",
   "execution_count": 1,
   "id": "60da3abe",
   "metadata": {},
   "outputs": [],
   "source": [
    "s = \"this is a string\""
   ]
  },
  {
   "cell_type": "code",
   "execution_count": 2,
   "id": "a6bf8ff9",
   "metadata": {},
   "outputs": [
    {
     "data": {
      "text/plain": [
       "['this', 'is', 'a', 'string']"
      ]
     },
     "execution_count": 2,
     "metadata": {},
     "output_type": "execute_result"
    }
   ],
   "source": [
    "s.split()"
   ]
  },
  {
   "cell_type": "code",
   "execution_count": 5,
   "id": "40dc102b",
   "metadata": {},
   "outputs": [
    {
     "data": {
      "text/plain": [
       "['t', 'i', 'a', 's']"
      ]
     },
     "execution_count": 5,
     "metadata": {},
     "output_type": "execute_result"
    }
   ],
   "source": [
    "[word[0] for word in s.split()]"
   ]
  },
  {
   "cell_type": "code",
   "execution_count": 7,
   "id": "6a6f7676",
   "metadata": {},
   "outputs": [
    {
     "data": {
      "text/plain": [
       "['s']"
      ]
     },
     "execution_count": 7,
     "metadata": {},
     "output_type": "execute_result"
    }
   ],
   "source": [
    "[word[0] for word in s.split() if word[0] == \"s\"]"
   ]
  },
  {
   "cell_type": "code",
   "execution_count": null,
   "id": "52f6a80e",
   "metadata": {},
   "outputs": [],
   "source": []
  }
 ],
 "metadata": {
  "kernelspec": {
   "display_name": "Python 3 (ipykernel)",
   "language": "python",
   "name": "python3"
  },
  "language_info": {
   "codemirror_mode": {
    "name": "ipython",
    "version": 3
   },
   "file_extension": ".py",
   "mimetype": "text/x-python",
   "name": "python",
   "nbconvert_exporter": "python",
   "pygments_lexer": "ipython3",
   "version": "3.10.4"
  }
 },
 "nbformat": 4,
 "nbformat_minor": 5
}
